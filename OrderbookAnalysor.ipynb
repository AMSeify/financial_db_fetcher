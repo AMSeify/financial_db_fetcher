{
 "cells": [
  {
   "cell_type": "code",
   "id": "initial_id",
   "metadata": {
    "collapsed": true,
    "jupyter": {
     "is_executing": true
    }
   },
   "source": "",
   "outputs": [],
   "execution_count": null
  },
  {
   "metadata": {
    "SqlCellData": {
     "data_source_name": "PSA",
     "variableName$1": "df_sql"
    }
   },
   "cell_type": "code",
   "source": [
    "%%sql\n",
    "DECLARE @TodayMidnight DATETIME;\n",
    "DECLARE @YesterdayMidnight DATETIME;\n",
    "\n",
    "-- Assign today's date with time set to 00:00:00\n",
    "SET @TodayMidnight = CAST(CAST(GETDATE() AS date) AS datetime);\n",
    "\n",
    "-- Assign yesterday's midnight by subtracting one day\n",
    "SET @YesterdayMidnight = DATEADD(DAY, -1, @TodayMidnight);\n",
    "\n",
    "SELECT * \n",
    "FROM FinalMoment \n",
    "WHERE CompanyID = 130 \n",
    "  AND [datetime] > @YesterdayMidnight;\n"
   ],
   "id": "f5243b6fbf03ec10",
   "outputs": [],
   "execution_count": null
  },
  {
   "metadata": {
    "SqlCellData": {
     "data_source_name": "PSA",
     "variableName$1": "df_sql1"
    }
   },
   "cell_type": "code",
   "source": [
    "%%sql\n",
    "SELECT CAST(CAST(GETDATE() AS date) AS datetime) AS StartOfToday;\n"
   ],
   "id": "f1fa39ea502ebde7",
   "outputs": [],
   "execution_count": null
  },
  {
   "metadata": {
    "SqlCellData": {
     "data_source_name": "PSA",
     "variableName$1": "df_sql2"
    }
   },
   "cell_type": "code",
   "source": [
    "%%sql\n",
    ";WITH Intervals AS\n",
    "(\n",
    "    SELECT 5 AS IntervalLength\n",
    "UNION ALL SELECT 15\n",
    "UNION ALL SELECT 60\n",
    "),\n",
    "CTE_Intervals AS\n",
    "(\n",
    "    SELECT\n",
    "    fm.CompanyID,\n",
    "    fm.[datetime],\n",
    "    fm.Final,\n",
    "    fm.[close],\n",
    "    fm.volume,\n",
    "    fm.MarketCap,\n",
    "    I.IntervalLength,\n",
    "    TimeInterval = DATEADD(MINUTE, DATEDIFF(MINUTE,0,fm.[datetime]) / I.IntervalLength * I.IntervalLength, 0),\n",
    "rn_asc = ROW_NUMBER() OVER (PARTITION BY fm.CompanyID, I.IntervalLength, DATEADD(MINUTE, DATEDIFF(MINUTE,0,fm.[datetime]) / I.IntervalLength * I.IntervalLength, 0)\n",
    "ORDER BY fm.[datetime] ASC),\n",
    "rn_desc = ROW_NUMBER() OVER (PARTITION BY fm.CompanyID, I.IntervalLength, DATEADD(MINUTE, DATEDIFF(MINUTE,0,fm.[datetime]) / I.IntervalLength * I.IntervalLength, 0)\n",
    "ORDER BY fm.[datetime] DESC)\n",
    "FROM FinalMoment fm\n",
    "CROSS JOIN Intervals I\n",
    "WHERE fm.CompanyID = 130\n",
    "AND fm.[datetime] >= DATEADD(DAY, DATEDIFF(DAY, 0, GETDATE())-1, 0) -- yesterday's midnight\n",
    "AND fm.[datetime] < DATEADD(DAY, DATEDIFF(DAY, 0, GETDATE()), 0)    -- today's midnight\n",
    ")\n",
    "SELECT\n",
    "CompanyID,\n",
    "TimeInterval,\n",
    "IntervalLength,\n",
    "[Open] = MAX(CASE WHEN rn_asc = 1 THEN [close] END),\n",
    "High = MAX([close]),\n",
    "Low = MIN([close]),\n",
    "[Close] = MAX(CASE WHEN rn_desc = 1 THEN [close] END),\n",
    "TotalVolume = SUM(volume),\n",
    "TotalMarketCap = SUM(MarketCap),\n",
    "Final = MAX(CASE WHEN rn_desc = 1 THEN Final END)\n",
    "FROM CTE_Intervals\n",
    "GROUP BY CompanyID, TimeInterval, IntervalLength\n",
    "ORDER BY CompanyID, TimeInterval, IntervalLength;\n"
   ],
   "id": "77ebd4a7e3c9cbe1",
   "outputs": [],
   "execution_count": null
  },
  {
   "metadata": {
    "SqlCellData": {
     "data_source_name": "PSA",
     "variableName$1": "df_sql3"
    }
   },
   "cell_type": "code",
   "source": [
    "%%sql\n",
    "-- CREATE PROCEDURE dbo.UpsertOHLC_Summary\n",
    "-- AS\n",
    "BEGIN\n",
    "    SET NOCOUNT ON;\n",
    "\n",
    "    ;WITH Intervals AS\n",
    "    (\n",
    "        SELECT 5 AS IntervalLength\n",
    "        UNION ALL SELECT 15\n",
    "        UNION ALL SELECT 60\n",
    "    ),\n",
    "    YesterdayData AS\n",
    "    (\n",
    "        SELECT \n",
    "            fm.CompanyID,\n",
    "            TimeInterval = DATEADD(MINUTE, (DATEDIFF(MINUTE,0,fm.[datetime]) / I.IntervalLength)*I.IntervalLength, 0),\n",
    "            I.IntervalLength,\n",
    "            fm.[datetime],\n",
    "            fm.Final,\n",
    "            fm.[close],\n",
    "            fm.volume,\n",
    "            fm.MarketCap,\n",
    "            rn_asc = ROW_NUMBER() OVER (\n",
    "                PARTITION BY fm.CompanyID, I.IntervalLength,\n",
    "                             DATEADD(MINUTE, (DATEDIFF(MINUTE,0,fm.[datetime]) / I.IntervalLength)*I.IntervalLength, 0)\n",
    "                ORDER BY fm.[datetime] ASC),\n",
    "            rn_desc = ROW_NUMBER() OVER (\n",
    "                PARTITION BY fm.CompanyID, I.IntervalLength,\n",
    "                             DATEADD(MINUTE, (DATEDIFF(MINUTE,0,fm.[datetime]) / I.IntervalLength)*I.IntervalLength, 0)\n",
    "                ORDER BY fm.[datetime] DESC)\n",
    "        FROM FinalMoment fm\n",
    "        CROSS JOIN Intervals I\n",
    "        WHERE fm.[datetime] >= DATEADD(DAY, DATEDIFF(DAY, 0, GETDATE())-130, 0)  -- Yesterday's midnight\n",
    "          AND fm.[datetime] < DATEADD(DAY, DATEDIFF(DAY, 0, GETDATE())-1, 0)     -- Today's midnight\n",
    "    ),\n",
    "    Aggregated AS\n",
    "    (\n",
    "        SELECT\n",
    "            CompanyID,\n",
    "            TimeInterval,\n",
    "            IntervalLength,\n",
    "            [Open] = MAX(CASE WHEN rn_asc = 1 THEN [close] END),\n",
    "            High = MAX([close]),\n",
    "            Low = MIN([close]),\n",
    "            [Close] = MAX(CASE WHEN rn_desc = 1 THEN [close] END),\n",
    "            TotalVolume = SUM(volume),\n",
    "            TotalMarketCap = SUM(MarketCap),\n",
    "            Final = MAX(CASE WHEN rn_desc = 1 THEN Final END)\n",
    "        FROM YesterdayData\n",
    "        GROUP BY CompanyID, TimeInterval, IntervalLength\n",
    "    )\n",
    "    MERGE OHLC_Summary AS T\n",
    "    USING Aggregated AS S\n",
    "        ON T.CompanyID = S.CompanyID\n",
    "        AND T.TimeInterval = S.TimeInterval\n",
    "        AND T.IntervalLength = S.IntervalLength\n",
    "    WHEN MATCHED AND (\n",
    "        T.[Open]          <> S.[Open]\n",
    "        OR T.High          <> S.High\n",
    "        OR T.Low           <> S.Low\n",
    "        OR T.[Close]       <> S.[Close]\n",
    "        OR T.TotalVolume   <> S.TotalVolume\n",
    "        OR T.TotalMarketCap<> S.TotalMarketCap\n",
    "        OR T.Final         <> S.Final\n",
    "    )\n",
    "    THEN UPDATE SET\n",
    "        T.[Open]         = S.[Open],\n",
    "        T.High           = S.High,\n",
    "        T.Low            = S.Low,\n",
    "        T.[Close]        = S.[Close],\n",
    "        T.TotalVolume    = S.TotalVolume,\n",
    "        T.TotalMarketCap = S.TotalMarketCap,\n",
    "        T.Final          = S.Final\n",
    "    WHEN NOT MATCHED BY TARGET\n",
    "    THEN INSERT (\n",
    "        CompanyID, TimeInterval, IntervalLength,\n",
    "        [Open], High, Low, [Close],\n",
    "        TotalVolume, TotalMarketCap, Final\n",
    "    ) VALUES (\n",
    "        S.CompanyID, S.TimeInterval, S.IntervalLength,\n",
    "        S.[Open], S.High, S.Low, S.[Close],\n",
    "        S.TotalVolume, S.TotalMarketCap, S.Final\n",
    "    );\n",
    "END"
   ],
   "id": "440216da19004727",
   "outputs": [],
   "execution_count": null
  },
  {
   "metadata": {
    "SqlCellData": {
     "data_source_name": "PSA",
     "variableName$1": "df_sql5"
    },
    "ExecuteTime": {
     "end_time": "2024-12-17T05:22:20.596803512Z",
     "start_time": "2024-12-17T05:22:20.066438360Z"
    }
   },
   "cell_type": "code",
   "source": [
    "%%sql\n",
    "exec UpsertOHLC_Summary"
   ],
   "id": "df7b153ba7f83769",
   "execution_count": null,
   "outputs": []
  },
  {
   "metadata": {},
   "cell_type": "code",
   "source": "",
   "id": "3a5f77f8cbd256c9",
   "outputs": [],
   "execution_count": null
  }
 ],
 "metadata": {
  "kernelspec": {
   "display_name": "Python 3",
   "language": "python",
   "name": "python3"
  },
  "language_info": {
   "codemirror_mode": {
    "name": "ipython",
    "version": 2
   },
   "file_extension": ".py",
   "mimetype": "text/x-python",
   "name": "python",
   "nbconvert_exporter": "python",
   "pygments_lexer": "ipython2",
   "version": "2.7.6"
  }
 },
 "nbformat": 4,
 "nbformat_minor": 5
}
